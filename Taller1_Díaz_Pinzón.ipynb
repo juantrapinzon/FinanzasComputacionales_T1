{
  "nbformat": 4,
  "nbformat_minor": 0,
  "metadata": {
    "colab": {
      "provenance": []
    },
    "kernelspec": {
      "name": "python3",
      "display_name": "Python 3"
    },
    "language_info": {
      "name": "python"
    }
  },
  "cells": [
    {
      "cell_type": "markdown",
      "source": [
        "# Taller 1\n",
        "Universidad Externado de Colombia \n",
        "\n",
        "Finanzas Computacionales \n",
        "\n",
        "*   Maria Fernanda Díaz Velásquez\n",
        "*   Juan Pablo Pinzón González\n",
        "\n"
      ],
      "metadata": {
        "id": "CW4dK9YOsLTM"
      }
    },
    {
      "cell_type": "markdown",
      "source": [
        "## Punto 1.\n",
        "Escoja dos acciones de su preferencia en el mercado estadounidense. Para estas dos  acciones descargue las series de precios diarios para el periodo Ene-21 a Dic-2022 usando  pandas datareader. Con esta información:  \n",
        " \n",
        "> **a.** Calcule los retornos logarítmicos diarios, mensuales y anualizados. Presente los  resultados en una tabla.\n",
        "\n",
        "> **b.** Calcule los retornos esperados y volatilidades anualizadas.\n",
        "\n",
        "> **c.** Construya una tabla resumen con las estadísticas descriptivas de las series diarias  (media, mediana, desv. estándar, curtosis, simetría) de los dos activos.\n",
        "\n",
        "> **d.** Compare las distribuciones empíricas de los dos activos con la distribución teórica  normal. \n",
        "\n",
        "> **e.** Calcule la matriz de correlaciones de Pearson, rango de Kendall y de Spearman. f. Implemente las pruebas de normalidad de Kolmogorov-Smirnov para todos los activos.\n",
        "\n",
        "\n",
        "\n"
      ],
      "metadata": {
        "id": "GA8d6GNFs2JY"
      }
    },
    {
      "cell_type": "code",
      "source": [
        "!pip install --quiet yfinance"
      ],
      "metadata": {
        "id": "9Grwc4lmsKbM",
        "colab": {
          "base_uri": "https://localhost:8080/"
        },
        "outputId": "0124b824-edff-40f1-b035-faeeab51ea83"
      },
      "execution_count": null,
      "outputs": [
        {
          "output_type": "stream",
          "name": "stdout",
          "text": [
            "\u001b[?25l     \u001b[90m━━━━━━━━━━━━━━━━━━━━━━━━━━━━━━━━━━━━━━━━\u001b[0m \u001b[32m0.0/59.2 KB\u001b[0m \u001b[31m?\u001b[0m eta \u001b[36m-:--:--\u001b[0m\r\u001b[2K     \u001b[90m━━━━━━━━━━━━━━━━━━━━━━━━━━━━━━━━━━━━━━━━\u001b[0m \u001b[32m59.2/59.2 KB\u001b[0m \u001b[31m4.2 MB/s\u001b[0m eta \u001b[36m0:00:00\u001b[0m\n",
            "\u001b[2K     \u001b[90m━━━━━━━━━━━━━━━━━━━━━━━━━━━━━━━━━━━━━━━\u001b[0m \u001b[32m112.2/112.2 KB\u001b[0m \u001b[31m8.3 MB/s\u001b[0m eta \u001b[36m0:00:00\u001b[0m\n",
            "\u001b[2K     \u001b[90m━━━━━━━━━━━━━━━━━━━━━━━━━━━━━━━━━━━━━━━━\u001b[0m \u001b[32m62.8/62.8 KB\u001b[0m \u001b[31m8.5 MB/s\u001b[0m eta \u001b[36m0:00:00\u001b[0m\n",
            "\u001b[2K     \u001b[90m━━━━━━━━━━━━━━━━━━━━━━━━━━━━━━━━━━━━━━\u001b[0m \u001b[32m111.0/111.0 KB\u001b[0m \u001b[31m12.5 MB/s\u001b[0m eta \u001b[36m0:00:00\u001b[0m\n",
            "\u001b[2K     \u001b[90m━━━━━━━━━━━━━━━━━━━━━━━━━━━━━━━━━━━━━━\u001b[0m \u001b[32m129.4/129.4 KB\u001b[0m \u001b[31m15.2 MB/s\u001b[0m eta \u001b[36m0:00:00\u001b[0m\n",
            "\u001b[2K     \u001b[90m━━━━━━━━━━━━━━━━━━━━━━━━━━━━━━━━━━━━━━━━\u001b[0m \u001b[32m4.2/4.2 MB\u001b[0m \u001b[31m49.7 MB/s\u001b[0m eta \u001b[36m0:00:00\u001b[0m\n",
            "\u001b[?25h"
          ]
        }
      ]
    },
    {
      "cell_type": "code",
      "source": [
        "import pandas_datareader.data as web\n",
        "import pandas as pd\n",
        "import numpy as np\n",
        "import datetime\n",
        "import matplotlib.pyplot as plt\n",
        "import yfinance as yf"
      ],
      "metadata": {
        "id": "XlO3WG9H-Zb_"
      },
      "execution_count": null,
      "outputs": []
    },
    {
      "cell_type": "code",
      "source": [
        "#Se utilizan las acciones de Visa y Airbnb\n",
        "assets = ['V','ABNB'] \n",
        "start = '2021-01-01'\n",
        "end = '2022-12-31'"
      ],
      "metadata": {
        "id": "HxQb5oi6K2vO"
      },
      "execution_count": null,
      "outputs": []
    },
    {
      "cell_type": "code",
      "source": [
        "yf.pdr_override()\n",
        "#Se importan los precios diarios\n",
        "precios=web.DataReader(assets,start,end,)['Adj Close']\n",
        "#Se importan los precios mensuales\n",
        "preciosmen=web.DataReader(assets,start,end,interval='1Mo')['Adj Close']\n",
        "preciosmen"
      ],
      "metadata": {
        "colab": {
          "base_uri": "https://localhost:8080/",
          "height": 865
        },
        "id": "LW_eJEB4Ny2v",
        "outputId": "74ba45e0-5b95-4a8c-a376-ba899a16779a"
      },
      "execution_count": null,
      "outputs": [
        {
          "output_type": "stream",
          "name": "stdout",
          "text": [
            "[*********************100%***********************]  2 of 2 completed\n",
            "[*********************100%***********************]  2 of 2 completed\n"
          ]
        },
        {
          "output_type": "execute_result",
          "data": {
            "text/plain": [
              "                  ABNB           V\n",
              "Date                              \n",
              "2021-01-01  183.630005  190.255539\n",
              "2021-02-01  206.350006  209.098953\n",
              "2021-03-01  187.940002  208.772797\n",
              "2021-04-01  172.710007  230.297913\n",
              "2021-05-01  140.399994  224.125320\n",
              "2021-06-01  153.139999  230.889160\n",
              "2021-07-01  144.009995  243.301590\n",
              "2021-08-01  154.990005  226.228333\n",
              "2021-09-01  167.750000  220.257767\n",
              "2021-10-01  170.660004  209.400604\n",
              "2021-11-01  172.539993  191.601990\n",
              "2021-12-01  166.490005  214.662567\n",
              "2022-01-01  153.970001  224.033188\n",
              "2022-02-01  151.490005  214.078156\n",
              "2022-03-01  171.759995  220.032166\n",
              "2022-04-01  153.210007  211.459869\n",
              "2022-05-01  120.870003  210.507401\n",
              "2022-06-01   89.080002  195.720215\n",
              "2022-07-01  110.980003  210.849808\n",
              "2022-08-01  113.120003  197.529419\n",
              "2022-09-01  105.040001  176.907303\n",
              "2022-10-01  106.910004  206.293945\n",
              "2022-11-01  102.139999  216.092804\n",
              "2022-12-01   85.500000  207.353867"
            ],
            "text/html": [
              "\n",
              "  <div id=\"df-a219ccd6-3a2b-49f0-9745-8e60d61c4a2e\">\n",
              "    <div class=\"colab-df-container\">\n",
              "      <div>\n",
              "<style scoped>\n",
              "    .dataframe tbody tr th:only-of-type {\n",
              "        vertical-align: middle;\n",
              "    }\n",
              "\n",
              "    .dataframe tbody tr th {\n",
              "        vertical-align: top;\n",
              "    }\n",
              "\n",
              "    .dataframe thead th {\n",
              "        text-align: right;\n",
              "    }\n",
              "</style>\n",
              "<table border=\"1\" class=\"dataframe\">\n",
              "  <thead>\n",
              "    <tr style=\"text-align: right;\">\n",
              "      <th></th>\n",
              "      <th>ABNB</th>\n",
              "      <th>V</th>\n",
              "    </tr>\n",
              "    <tr>\n",
              "      <th>Date</th>\n",
              "      <th></th>\n",
              "      <th></th>\n",
              "    </tr>\n",
              "  </thead>\n",
              "  <tbody>\n",
              "    <tr>\n",
              "      <th>2021-01-01</th>\n",
              "      <td>183.630005</td>\n",
              "      <td>190.255539</td>\n",
              "    </tr>\n",
              "    <tr>\n",
              "      <th>2021-02-01</th>\n",
              "      <td>206.350006</td>\n",
              "      <td>209.098953</td>\n",
              "    </tr>\n",
              "    <tr>\n",
              "      <th>2021-03-01</th>\n",
              "      <td>187.940002</td>\n",
              "      <td>208.772797</td>\n",
              "    </tr>\n",
              "    <tr>\n",
              "      <th>2021-04-01</th>\n",
              "      <td>172.710007</td>\n",
              "      <td>230.297913</td>\n",
              "    </tr>\n",
              "    <tr>\n",
              "      <th>2021-05-01</th>\n",
              "      <td>140.399994</td>\n",
              "      <td>224.125320</td>\n",
              "    </tr>\n",
              "    <tr>\n",
              "      <th>2021-06-01</th>\n",
              "      <td>153.139999</td>\n",
              "      <td>230.889160</td>\n",
              "    </tr>\n",
              "    <tr>\n",
              "      <th>2021-07-01</th>\n",
              "      <td>144.009995</td>\n",
              "      <td>243.301590</td>\n",
              "    </tr>\n",
              "    <tr>\n",
              "      <th>2021-08-01</th>\n",
              "      <td>154.990005</td>\n",
              "      <td>226.228333</td>\n",
              "    </tr>\n",
              "    <tr>\n",
              "      <th>2021-09-01</th>\n",
              "      <td>167.750000</td>\n",
              "      <td>220.257767</td>\n",
              "    </tr>\n",
              "    <tr>\n",
              "      <th>2021-10-01</th>\n",
              "      <td>170.660004</td>\n",
              "      <td>209.400604</td>\n",
              "    </tr>\n",
              "    <tr>\n",
              "      <th>2021-11-01</th>\n",
              "      <td>172.539993</td>\n",
              "      <td>191.601990</td>\n",
              "    </tr>\n",
              "    <tr>\n",
              "      <th>2021-12-01</th>\n",
              "      <td>166.490005</td>\n",
              "      <td>214.662567</td>\n",
              "    </tr>\n",
              "    <tr>\n",
              "      <th>2022-01-01</th>\n",
              "      <td>153.970001</td>\n",
              "      <td>224.033188</td>\n",
              "    </tr>\n",
              "    <tr>\n",
              "      <th>2022-02-01</th>\n",
              "      <td>151.490005</td>\n",
              "      <td>214.078156</td>\n",
              "    </tr>\n",
              "    <tr>\n",
              "      <th>2022-03-01</th>\n",
              "      <td>171.759995</td>\n",
              "      <td>220.032166</td>\n",
              "    </tr>\n",
              "    <tr>\n",
              "      <th>2022-04-01</th>\n",
              "      <td>153.210007</td>\n",
              "      <td>211.459869</td>\n",
              "    </tr>\n",
              "    <tr>\n",
              "      <th>2022-05-01</th>\n",
              "      <td>120.870003</td>\n",
              "      <td>210.507401</td>\n",
              "    </tr>\n",
              "    <tr>\n",
              "      <th>2022-06-01</th>\n",
              "      <td>89.080002</td>\n",
              "      <td>195.720215</td>\n",
              "    </tr>\n",
              "    <tr>\n",
              "      <th>2022-07-01</th>\n",
              "      <td>110.980003</td>\n",
              "      <td>210.849808</td>\n",
              "    </tr>\n",
              "    <tr>\n",
              "      <th>2022-08-01</th>\n",
              "      <td>113.120003</td>\n",
              "      <td>197.529419</td>\n",
              "    </tr>\n",
              "    <tr>\n",
              "      <th>2022-09-01</th>\n",
              "      <td>105.040001</td>\n",
              "      <td>176.907303</td>\n",
              "    </tr>\n",
              "    <tr>\n",
              "      <th>2022-10-01</th>\n",
              "      <td>106.910004</td>\n",
              "      <td>206.293945</td>\n",
              "    </tr>\n",
              "    <tr>\n",
              "      <th>2022-11-01</th>\n",
              "      <td>102.139999</td>\n",
              "      <td>216.092804</td>\n",
              "    </tr>\n",
              "    <tr>\n",
              "      <th>2022-12-01</th>\n",
              "      <td>85.500000</td>\n",
              "      <td>207.353867</td>\n",
              "    </tr>\n",
              "  </tbody>\n",
              "</table>\n",
              "</div>\n",
              "      <button class=\"colab-df-convert\" onclick=\"convertToInteractive('df-a219ccd6-3a2b-49f0-9745-8e60d61c4a2e')\"\n",
              "              title=\"Convert this dataframe to an interactive table.\"\n",
              "              style=\"display:none;\">\n",
              "        \n",
              "  <svg xmlns=\"http://www.w3.org/2000/svg\" height=\"24px\"viewBox=\"0 0 24 24\"\n",
              "       width=\"24px\">\n",
              "    <path d=\"M0 0h24v24H0V0z\" fill=\"none\"/>\n",
              "    <path d=\"M18.56 5.44l.94 2.06.94-2.06 2.06-.94-2.06-.94-.94-2.06-.94 2.06-2.06.94zm-11 1L8.5 8.5l.94-2.06 2.06-.94-2.06-.94L8.5 2.5l-.94 2.06-2.06.94zm10 10l.94 2.06.94-2.06 2.06-.94-2.06-.94-.94-2.06-.94 2.06-2.06.94z\"/><path d=\"M17.41 7.96l-1.37-1.37c-.4-.4-.92-.59-1.43-.59-.52 0-1.04.2-1.43.59L10.3 9.45l-7.72 7.72c-.78.78-.78 2.05 0 2.83L4 21.41c.39.39.9.59 1.41.59.51 0 1.02-.2 1.41-.59l7.78-7.78 2.81-2.81c.8-.78.8-2.07 0-2.86zM5.41 20L4 18.59l7.72-7.72 1.47 1.35L5.41 20z\"/>\n",
              "  </svg>\n",
              "      </button>\n",
              "      \n",
              "  <style>\n",
              "    .colab-df-container {\n",
              "      display:flex;\n",
              "      flex-wrap:wrap;\n",
              "      gap: 12px;\n",
              "    }\n",
              "\n",
              "    .colab-df-convert {\n",
              "      background-color: #E8F0FE;\n",
              "      border: none;\n",
              "      border-radius: 50%;\n",
              "      cursor: pointer;\n",
              "      display: none;\n",
              "      fill: #1967D2;\n",
              "      height: 32px;\n",
              "      padding: 0 0 0 0;\n",
              "      width: 32px;\n",
              "    }\n",
              "\n",
              "    .colab-df-convert:hover {\n",
              "      background-color: #E2EBFA;\n",
              "      box-shadow: 0px 1px 2px rgba(60, 64, 67, 0.3), 0px 1px 3px 1px rgba(60, 64, 67, 0.15);\n",
              "      fill: #174EA6;\n",
              "    }\n",
              "\n",
              "    [theme=dark] .colab-df-convert {\n",
              "      background-color: #3B4455;\n",
              "      fill: #D2E3FC;\n",
              "    }\n",
              "\n",
              "    [theme=dark] .colab-df-convert:hover {\n",
              "      background-color: #434B5C;\n",
              "      box-shadow: 0px 1px 3px 1px rgba(0, 0, 0, 0.15);\n",
              "      filter: drop-shadow(0px 1px 2px rgba(0, 0, 0, 0.3));\n",
              "      fill: #FFFFFF;\n",
              "    }\n",
              "  </style>\n",
              "\n",
              "      <script>\n",
              "        const buttonEl =\n",
              "          document.querySelector('#df-a219ccd6-3a2b-49f0-9745-8e60d61c4a2e button.colab-df-convert');\n",
              "        buttonEl.style.display =\n",
              "          google.colab.kernel.accessAllowed ? 'block' : 'none';\n",
              "\n",
              "        async function convertToInteractive(key) {\n",
              "          const element = document.querySelector('#df-a219ccd6-3a2b-49f0-9745-8e60d61c4a2e');\n",
              "          const dataTable =\n",
              "            await google.colab.kernel.invokeFunction('convertToInteractive',\n",
              "                                                     [key], {});\n",
              "          if (!dataTable) return;\n",
              "\n",
              "          const docLinkHtml = 'Like what you see? Visit the ' +\n",
              "            '<a target=\"_blank\" href=https://colab.research.google.com/notebooks/data_table.ipynb>data table notebook</a>'\n",
              "            + ' to learn more about interactive tables.';\n",
              "          element.innerHTML = '';\n",
              "          dataTable['output_type'] = 'display_data';\n",
              "          await google.colab.output.renderOutput(dataTable, element);\n",
              "          const docLink = document.createElement('div');\n",
              "          docLink.innerHTML = docLinkHtml;\n",
              "          element.appendChild(docLink);\n",
              "        }\n",
              "      </script>\n",
              "    </div>\n",
              "  </div>\n",
              "  "
            ]
          },
          "metadata": {},
          "execution_count": 6
        }
      ]
    },
    {
      "cell_type": "code",
      "source": [
        "#Calcule los retornos logarítmicos diarios, mensuales y anualizados. \n",
        "r_diario = np.log(precios/precios.shift(1)).dropna()\n",
        "r_mensual = np.log(preciosmen/preciosmen.shift(1)).dropna()\n",
        "re_anual=r_mensual*12\n",
        "r_anual=re_anual.mean()"
      ],
      "metadata": {
        "colab": {
          "base_uri": "https://localhost:8080/"
        },
        "id": "P4c51SRmoH1c",
        "outputId": "8995d702-c4f4-442b-d4d4-4cf78ec5f612"
      },
      "execution_count": null,
      "outputs": [
        {
          "output_type": "execute_result",
          "data": {
            "text/plain": [
              "ABNB   -0.398821\n",
              "V       0.044900\n",
              "dtype: float64"
            ]
          },
          "metadata": {},
          "execution_count": 9
        }
      ]
    },
    {
      "cell_type": "code",
      "source": [
        "#Presente los resultados en una tabla.\n",
        "tabla = pd.DataFrame([r_anual,r_diario.mean(),r_mensual.mean()],index={'Retorno Diario','Retorno Anual','Retorno Mensual'})\n",
        "tabla"
      ],
      "metadata": {
        "colab": {
          "base_uri": "https://localhost:8080/",
          "height": 160
        },
        "id": "GoyxAH8BeB3V",
        "outputId": "61870ab0-570a-4930-b94f-df749c81c70d"
      },
      "execution_count": null,
      "outputs": [
        {
          "output_type": "execute_result",
          "data": {
            "text/plain": [
              "                     ABNB         V\n",
              "Retorno Anual   -0.398821  0.044900\n",
              "Retorno Diario  -0.000970 -0.000066\n",
              "Retorno Mensual -0.033235  0.003742"
            ],
            "text/html": [
              "\n",
              "  <div id=\"df-9d7b8678-8ef1-42cd-a436-1b59332bdd9a\">\n",
              "    <div class=\"colab-df-container\">\n",
              "      <div>\n",
              "<style scoped>\n",
              "    .dataframe tbody tr th:only-of-type {\n",
              "        vertical-align: middle;\n",
              "    }\n",
              "\n",
              "    .dataframe tbody tr th {\n",
              "        vertical-align: top;\n",
              "    }\n",
              "\n",
              "    .dataframe thead th {\n",
              "        text-align: right;\n",
              "    }\n",
              "</style>\n",
              "<table border=\"1\" class=\"dataframe\">\n",
              "  <thead>\n",
              "    <tr style=\"text-align: right;\">\n",
              "      <th></th>\n",
              "      <th>ABNB</th>\n",
              "      <th>V</th>\n",
              "    </tr>\n",
              "  </thead>\n",
              "  <tbody>\n",
              "    <tr>\n",
              "      <th>Retorno Anual</th>\n",
              "      <td>-0.398821</td>\n",
              "      <td>0.044900</td>\n",
              "    </tr>\n",
              "    <tr>\n",
              "      <th>Retorno Diario</th>\n",
              "      <td>-0.000970</td>\n",
              "      <td>-0.000066</td>\n",
              "    </tr>\n",
              "    <tr>\n",
              "      <th>Retorno Mensual</th>\n",
              "      <td>-0.033235</td>\n",
              "      <td>0.003742</td>\n",
              "    </tr>\n",
              "  </tbody>\n",
              "</table>\n",
              "</div>\n",
              "      <button class=\"colab-df-convert\" onclick=\"convertToInteractive('df-9d7b8678-8ef1-42cd-a436-1b59332bdd9a')\"\n",
              "              title=\"Convert this dataframe to an interactive table.\"\n",
              "              style=\"display:none;\">\n",
              "        \n",
              "  <svg xmlns=\"http://www.w3.org/2000/svg\" height=\"24px\"viewBox=\"0 0 24 24\"\n",
              "       width=\"24px\">\n",
              "    <path d=\"M0 0h24v24H0V0z\" fill=\"none\"/>\n",
              "    <path d=\"M18.56 5.44l.94 2.06.94-2.06 2.06-.94-2.06-.94-.94-2.06-.94 2.06-2.06.94zm-11 1L8.5 8.5l.94-2.06 2.06-.94-2.06-.94L8.5 2.5l-.94 2.06-2.06.94zm10 10l.94 2.06.94-2.06 2.06-.94-2.06-.94-.94-2.06-.94 2.06-2.06.94z\"/><path d=\"M17.41 7.96l-1.37-1.37c-.4-.4-.92-.59-1.43-.59-.52 0-1.04.2-1.43.59L10.3 9.45l-7.72 7.72c-.78.78-.78 2.05 0 2.83L4 21.41c.39.39.9.59 1.41.59.51 0 1.02-.2 1.41-.59l7.78-7.78 2.81-2.81c.8-.78.8-2.07 0-2.86zM5.41 20L4 18.59l7.72-7.72 1.47 1.35L5.41 20z\"/>\n",
              "  </svg>\n",
              "      </button>\n",
              "      \n",
              "  <style>\n",
              "    .colab-df-container {\n",
              "      display:flex;\n",
              "      flex-wrap:wrap;\n",
              "      gap: 12px;\n",
              "    }\n",
              "\n",
              "    .colab-df-convert {\n",
              "      background-color: #E8F0FE;\n",
              "      border: none;\n",
              "      border-radius: 50%;\n",
              "      cursor: pointer;\n",
              "      display: none;\n",
              "      fill: #1967D2;\n",
              "      height: 32px;\n",
              "      padding: 0 0 0 0;\n",
              "      width: 32px;\n",
              "    }\n",
              "\n",
              "    .colab-df-convert:hover {\n",
              "      background-color: #E2EBFA;\n",
              "      box-shadow: 0px 1px 2px rgba(60, 64, 67, 0.3), 0px 1px 3px 1px rgba(60, 64, 67, 0.15);\n",
              "      fill: #174EA6;\n",
              "    }\n",
              "\n",
              "    [theme=dark] .colab-df-convert {\n",
              "      background-color: #3B4455;\n",
              "      fill: #D2E3FC;\n",
              "    }\n",
              "\n",
              "    [theme=dark] .colab-df-convert:hover {\n",
              "      background-color: #434B5C;\n",
              "      box-shadow: 0px 1px 3px 1px rgba(0, 0, 0, 0.15);\n",
              "      filter: drop-shadow(0px 1px 2px rgba(0, 0, 0, 0.3));\n",
              "      fill: #FFFFFF;\n",
              "    }\n",
              "  </style>\n",
              "\n",
              "      <script>\n",
              "        const buttonEl =\n",
              "          document.querySelector('#df-9d7b8678-8ef1-42cd-a436-1b59332bdd9a button.colab-df-convert');\n",
              "        buttonEl.style.display =\n",
              "          google.colab.kernel.accessAllowed ? 'block' : 'none';\n",
              "\n",
              "        async function convertToInteractive(key) {\n",
              "          const element = document.querySelector('#df-9d7b8678-8ef1-42cd-a436-1b59332bdd9a');\n",
              "          const dataTable =\n",
              "            await google.colab.kernel.invokeFunction('convertToInteractive',\n",
              "                                                     [key], {});\n",
              "          if (!dataTable) return;\n",
              "\n",
              "          const docLinkHtml = 'Like what you see? Visit the ' +\n",
              "            '<a target=\"_blank\" href=https://colab.research.google.com/notebooks/data_table.ipynb>data table notebook</a>'\n",
              "            + ' to learn more about interactive tables.';\n",
              "          element.innerHTML = '';\n",
              "          dataTable['output_type'] = 'display_data';\n",
              "          await google.colab.output.renderOutput(dataTable, element);\n",
              "          const docLink = document.createElement('div');\n",
              "          docLink.innerHTML = docLinkHtml;\n",
              "          element.appendChild(docLink);\n",
              "        }\n",
              "      </script>\n",
              "    </div>\n",
              "  </div>\n",
              "  "
            ]
          },
          "metadata": {},
          "execution_count": 12
        }
      ]
    },
    {
      "cell_type": "markdown",
      "source": [
        "De la tabla anterior podemos inferir que los retornos diarios son menores que los mensuales y los anuales para ambas acciones, mientras que los Anuales son los mayores. De la misma manera, se observa que en el tiempo seleccionados los retornos mensuales, diarios y anuales de la acción de Airbnb son negativos. "
      ],
      "metadata": {
        "id": "hiJGQhDBsX17"
      }
    },
    {
      "cell_type": "code",
      "source": [
        "# Volatilidad y Valor Esperado de los retornos (anualizado)\n",
        "from scipy.stats.morestats import sqrt\n",
        "\n",
        "sigma=r_diario.std()*np.sqrt(252)\n",
        "mu = r_diario.mean()*252"
      ],
      "metadata": {
        "id": "CQGWolD20h9W"
      },
      "execution_count": null,
      "outputs": []
    },
    {
      "cell_type": "code",
      "source": [
        "#Estadística Descriptiva de la Serie Diaria\n",
        "r_diario.describe()\n",
        "\n",
        "rdmedia=r_diario.mean()\n",
        "rdsd=r_diario.std()\n",
        "rdmediana=r_diario.median()\n",
        "rdkurtosis=r_diario.kurtosis()\n",
        "rdasimetria=r_diario.skew()\n"
      ],
      "metadata": {
        "id": "63EfhQ4K2bPF"
      },
      "execution_count": null,
      "outputs": []
    },
    {
      "cell_type": "code",
      "source": [
        "#Tabla resumen de Estadíatica Descriptiva\n",
        "tabla2 = pd.DataFrame([rdmediana,rdasimetria,rdsd,rdkurtosis,rdmedia],index={'Mediana','Desviación Estándar','Kurtosis','Asimetría','Media'})\n",
        "tabla2"
      ],
      "metadata": {
        "colab": {
          "base_uri": "https://localhost:8080/",
          "height": 221
        },
        "id": "IExY0CaZgFPI",
        "outputId": "07bf46d7-3f53-4b99-d9ec-8f1068a3533d"
      },
      "execution_count": null,
      "outputs": [
        {
          "output_type": "execute_result",
          "data": {
            "text/plain": [
              "                         ABNB         V\n",
              "Mediana             -0.001157 -0.000130\n",
              "Asimetría            0.006404  0.180965\n",
              "Desviación Estándar  0.035853  0.017443\n",
              "Kurtosis             1.050161  3.235603\n",
              "Media               -0.000970 -0.000066"
            ],
            "text/html": [
              "\n",
              "  <div id=\"df-d62017bd-b0ef-4c7a-befb-447df98a590d\">\n",
              "    <div class=\"colab-df-container\">\n",
              "      <div>\n",
              "<style scoped>\n",
              "    .dataframe tbody tr th:only-of-type {\n",
              "        vertical-align: middle;\n",
              "    }\n",
              "\n",
              "    .dataframe tbody tr th {\n",
              "        vertical-align: top;\n",
              "    }\n",
              "\n",
              "    .dataframe thead th {\n",
              "        text-align: right;\n",
              "    }\n",
              "</style>\n",
              "<table border=\"1\" class=\"dataframe\">\n",
              "  <thead>\n",
              "    <tr style=\"text-align: right;\">\n",
              "      <th></th>\n",
              "      <th>ABNB</th>\n",
              "      <th>V</th>\n",
              "    </tr>\n",
              "  </thead>\n",
              "  <tbody>\n",
              "    <tr>\n",
              "      <th>Mediana</th>\n",
              "      <td>-0.001157</td>\n",
              "      <td>-0.000130</td>\n",
              "    </tr>\n",
              "    <tr>\n",
              "      <th>Asimetría</th>\n",
              "      <td>0.006404</td>\n",
              "      <td>0.180965</td>\n",
              "    </tr>\n",
              "    <tr>\n",
              "      <th>Desviación Estándar</th>\n",
              "      <td>0.035853</td>\n",
              "      <td>0.017443</td>\n",
              "    </tr>\n",
              "    <tr>\n",
              "      <th>Kurtosis</th>\n",
              "      <td>1.050161</td>\n",
              "      <td>3.235603</td>\n",
              "    </tr>\n",
              "    <tr>\n",
              "      <th>Media</th>\n",
              "      <td>-0.000970</td>\n",
              "      <td>-0.000066</td>\n",
              "    </tr>\n",
              "  </tbody>\n",
              "</table>\n",
              "</div>\n",
              "      <button class=\"colab-df-convert\" onclick=\"convertToInteractive('df-d62017bd-b0ef-4c7a-befb-447df98a590d')\"\n",
              "              title=\"Convert this dataframe to an interactive table.\"\n",
              "              style=\"display:none;\">\n",
              "        \n",
              "  <svg xmlns=\"http://www.w3.org/2000/svg\" height=\"24px\"viewBox=\"0 0 24 24\"\n",
              "       width=\"24px\">\n",
              "    <path d=\"M0 0h24v24H0V0z\" fill=\"none\"/>\n",
              "    <path d=\"M18.56 5.44l.94 2.06.94-2.06 2.06-.94-2.06-.94-.94-2.06-.94 2.06-2.06.94zm-11 1L8.5 8.5l.94-2.06 2.06-.94-2.06-.94L8.5 2.5l-.94 2.06-2.06.94zm10 10l.94 2.06.94-2.06 2.06-.94-2.06-.94-.94-2.06-.94 2.06-2.06.94z\"/><path d=\"M17.41 7.96l-1.37-1.37c-.4-.4-.92-.59-1.43-.59-.52 0-1.04.2-1.43.59L10.3 9.45l-7.72 7.72c-.78.78-.78 2.05 0 2.83L4 21.41c.39.39.9.59 1.41.59.51 0 1.02-.2 1.41-.59l7.78-7.78 2.81-2.81c.8-.78.8-2.07 0-2.86zM5.41 20L4 18.59l7.72-7.72 1.47 1.35L5.41 20z\"/>\n",
              "  </svg>\n",
              "      </button>\n",
              "      \n",
              "  <style>\n",
              "    .colab-df-container {\n",
              "      display:flex;\n",
              "      flex-wrap:wrap;\n",
              "      gap: 12px;\n",
              "    }\n",
              "\n",
              "    .colab-df-convert {\n",
              "      background-color: #E8F0FE;\n",
              "      border: none;\n",
              "      border-radius: 50%;\n",
              "      cursor: pointer;\n",
              "      display: none;\n",
              "      fill: #1967D2;\n",
              "      height: 32px;\n",
              "      padding: 0 0 0 0;\n",
              "      width: 32px;\n",
              "    }\n",
              "\n",
              "    .colab-df-convert:hover {\n",
              "      background-color: #E2EBFA;\n",
              "      box-shadow: 0px 1px 2px rgba(60, 64, 67, 0.3), 0px 1px 3px 1px rgba(60, 64, 67, 0.15);\n",
              "      fill: #174EA6;\n",
              "    }\n",
              "\n",
              "    [theme=dark] .colab-df-convert {\n",
              "      background-color: #3B4455;\n",
              "      fill: #D2E3FC;\n",
              "    }\n",
              "\n",
              "    [theme=dark] .colab-df-convert:hover {\n",
              "      background-color: #434B5C;\n",
              "      box-shadow: 0px 1px 3px 1px rgba(0, 0, 0, 0.15);\n",
              "      filter: drop-shadow(0px 1px 2px rgba(0, 0, 0, 0.3));\n",
              "      fill: #FFFFFF;\n",
              "    }\n",
              "  </style>\n",
              "\n",
              "      <script>\n",
              "        const buttonEl =\n",
              "          document.querySelector('#df-d62017bd-b0ef-4c7a-befb-447df98a590d button.colab-df-convert');\n",
              "        buttonEl.style.display =\n",
              "          google.colab.kernel.accessAllowed ? 'block' : 'none';\n",
              "\n",
              "        async function convertToInteractive(key) {\n",
              "          const element = document.querySelector('#df-d62017bd-b0ef-4c7a-befb-447df98a590d');\n",
              "          const dataTable =\n",
              "            await google.colab.kernel.invokeFunction('convertToInteractive',\n",
              "                                                     [key], {});\n",
              "          if (!dataTable) return;\n",
              "\n",
              "          const docLinkHtml = 'Like what you see? Visit the ' +\n",
              "            '<a target=\"_blank\" href=https://colab.research.google.com/notebooks/data_table.ipynb>data table notebook</a>'\n",
              "            + ' to learn more about interactive tables.';\n",
              "          element.innerHTML = '';\n",
              "          dataTable['output_type'] = 'display_data';\n",
              "          await google.colab.output.renderOutput(dataTable, element);\n",
              "          const docLink = document.createElement('div');\n",
              "          docLink.innerHTML = docLinkHtml;\n",
              "          element.appendChild(docLink);\n",
              "        }\n",
              "      </script>\n",
              "    </div>\n",
              "  </div>\n",
              "  "
            ]
          },
          "metadata": {},
          "execution_count": 26
        }
      ]
    },
    {
      "cell_type": "markdown",
      "source": [
        "Se puede analizar de la tabla anterior que ambas acciones presentan un coheficiente de kurtosis positivo, lo cual significa que hay una mayor concentración de datos entorno a la media, especialmente en la accion de Visa. "
      ],
      "metadata": {
        "id": "g8u10adEtdIy"
      }
    },
    {
      "cell_type": "code",
      "source": [
        "#Compare las distribuciones empíricas de los dos activos con la distribución teórica normal.\n",
        "##Visa\n",
        "from scipy.stats import norm\n",
        "x = np.linspace(-0.1,0.1,num=100)\n",
        "\n",
        "plt.hist(r_diario['V'],bins=20,density=True,histtype=\"step\")\n",
        "plt.plot(x,norm.pdf(x,scale=r_diario['V'].std()),'k')\n",
        "plt.xlabel(\"Retornos\")\n",
        "plt.ylabel(\"Probabilidad\")\n",
        "plt.axvline(r_diario['V'].mean(),color='r');"
      ],
      "metadata": {
        "colab": {
          "base_uri": "https://localhost:8080/",
          "height": 300
        },
        "id": "kmGPExHs39mG",
        "outputId": "b2e59ddb-d654-4d5d-dfb5-3bf5ded15d46"
      },
      "execution_count": null,
      "outputs": [
        {
          "output_type": "display_data",
          "data": {
            "text/plain": [
              "<Figure size 432x288 with 1 Axes>"
            ],
            "image/png": "[encoded data removed]"
          },
          "metadata": {
            "needs_background": "light"
          }
        }
      ]
    },
    {
      "cell_type": "markdown",
      "source": [
        "La distribición de los retornos de la acción de Visa se distribuye de manera leptocúrtica, ya que los datos estan más concentrados entorno a la media. También, se puede evidenciar que no es una distribución normal, dado a que su media y su mediana no coinciden, la desviación estándar es diferente a 1 y no existe simetria alrededor de la media. "
      ],
      "metadata": {
        "id": "Fl2VsPySvh1s"
      }
    },
    {
      "cell_type": "code",
      "source": [
        "##Airbnb\n",
        "plt.hist(r_diario['ABNB'],bins=20,density=True,histtype=\"step\")\n",
        "plt.plot(x,norm.pdf(x,scale=r_diario['ABNB'].std()),'k')\n",
        "plt.xlabel(\"Retornos\")\n",
        "plt.ylabel(\"Probabilidad\")\n",
        "plt.axvline(r_diario['ABNB'].mean(),color='r');"
      ],
      "metadata": {
        "colab": {
          "base_uri": "https://localhost:8080/",
          "height": 300
        },
        "id": "oH6oH5pW4u9O",
        "outputId": "a1ec79b3-ca9f-4987-b752-ec5ff1d34858"
      },
      "execution_count": null,
      "outputs": [
        {
          "output_type": "display_data",
          "data": {
            "text/plain": [
              "<Figure size 432x288 with 1 Axes>"
            ],
            "image/png": "[encoded data removed]"
          },
          "metadata": {
            "needs_background": "light"
          }
        }
      ]
    },
    {
      "cell_type": "markdown",
      "source": [
        "La distribición de los retornos de la acción de Airbnb se distribuye de manera leptocúrtica, ya que los datos estan más concentrados entorno a la media, sin embargo es \"achatada\" que la primero, puesto que su coeficiente de Kurtosis es menor con respecto a la anterior. También, se puede evidenciar que no es una distribución normal, dado a que su media y su mediana no coinciden, la desviación estándar es diferente a 1 y no existe simetria alrededor de la media. "
      ],
      "metadata": {
        "id": "qxdx8fwGxfEE"
      }
    },
    {
      "cell_type": "code",
      "source": [
        "##Calcule la matriz de correlaciones de Pearson, rango de Kendall y de Spearman.\n",
        "\n",
        "#Correlación de Pearson\n",
        "r_diario.corr()"
      ],
      "metadata": {
        "colab": {
          "base_uri": "https://localhost:8080/",
          "height": 130
        },
        "id": "yAMSLfvZ5AXh",
        "outputId": "e36427c5-1f76-4673-850f-0d161a2e5c5a"
      },
      "execution_count": null,
      "outputs": [
        {
          "output_type": "execute_result",
          "data": {
            "text/plain": [
              "          ABNB         V\n",
              "ABNB  1.000000  0.401388\n",
              "V     0.401388  1.000000"
            ],
            "text/html": [
              "\n",
              "  <div id=\"df-df5cf6ae-2e0f-446b-99b0-710764e14790\">\n",
              "    <div class=\"colab-df-container\">\n",
              "      <div>\n",
              "<style scoped>\n",
              "    .dataframe tbody tr th:only-of-type {\n",
              "        vertical-align: middle;\n",
              "    }\n",
              "\n",
              "    .dataframe tbody tr th {\n",
              "        vertical-align: top;\n",
              "    }\n",
              "\n",
              "    .dataframe thead th {\n",
              "        text-align: right;\n",
              "    }\n",
              "</style>\n",
              "<table border=\"1\" class=\"dataframe\">\n",
              "  <thead>\n",
              "    <tr style=\"text-align: right;\">\n",
              "      <th></th>\n",
              "      <th>ABNB</th>\n",
              "      <th>V</th>\n",
              "    </tr>\n",
              "  </thead>\n",
              "  <tbody>\n",
              "    <tr>\n",
              "      <th>ABNB</th>\n",
              "      <td>1.000000</td>\n",
              "      <td>0.401388</td>\n",
              "    </tr>\n",
              "    <tr>\n",
              "      <th>V</th>\n",
              "      <td>0.401388</td>\n",
              "      <td>1.000000</td>\n",
              "    </tr>\n",
              "  </tbody>\n",
              "</table>\n",
              "</div>\n",
              "      <button class=\"colab-df-convert\" onclick=\"convertToInteractive('df-df5cf6ae-2e0f-446b-99b0-710764e14790')\"\n",
              "              title=\"Convert this dataframe to an interactive table.\"\n",
              "              style=\"display:none;\">\n",
              "        \n",
              "  <svg xmlns=\"http://www.w3.org/2000/svg\" height=\"24px\"viewBox=\"0 0 24 24\"\n",
              "       width=\"24px\">\n",
              "    <path d=\"M0 0h24v24H0V0z\" fill=\"none\"/>\n",
              "    <path d=\"M18.56 5.44l.94 2.06.94-2.06 2.06-.94-2.06-.94-.94-2.06-.94 2.06-2.06.94zm-11 1L8.5 8.5l.94-2.06 2.06-.94-2.06-.94L8.5 2.5l-.94 2.06-2.06.94zm10 10l.94 2.06.94-2.06 2.06-.94-2.06-.94-.94-2.06-.94 2.06-2.06.94z\"/><path d=\"M17.41 7.96l-1.37-1.37c-.4-.4-.92-.59-1.43-.59-.52 0-1.04.2-1.43.59L10.3 9.45l-7.72 7.72c-.78.78-.78 2.05 0 2.83L4 21.41c.39.39.9.59 1.41.59.51 0 1.02-.2 1.41-.59l7.78-7.78 2.81-2.81c.8-.78.8-2.07 0-2.86zM5.41 20L4 18.59l7.72-7.72 1.47 1.35L5.41 20z\"/>\n",
              "  </svg>\n",
              "      </button>\n",
              "      \n",
              "  <style>\n",
              "    .colab-df-container {\n",
              "      display:flex;\n",
              "      flex-wrap:wrap;\n",
              "      gap: 12px;\n",
              "    }\n",
              "\n",
              "    .colab-df-convert {\n",
              "      background-color: #E8F0FE;\n",
              "      border: none;\n",
              "      border-radius: 50%;\n",
              "      cursor: pointer;\n",
              "      display: none;\n",
              "      fill: #1967D2;\n",
              "      height: 32px;\n",
              "      padding: 0 0 0 0;\n",
              "      width: 32px;\n",
              "    }\n",
              "\n",
              "    .colab-df-convert:hover {\n",
              "      background-color: #E2EBFA;\n",
              "      box-shadow: 0px 1px 2px rgba(60, 64, 67, 0.3), 0px 1px 3px 1px rgba(60, 64, 67, 0.15);\n",
              "      fill: #174EA6;\n",
              "    }\n",
              "\n",
              "    [theme=dark] .colab-df-convert {\n",
              "      background-color: #3B4455;\n",
              "      fill: #D2E3FC;\n",
              "    }\n",
              "\n",
              "    [theme=dark] .colab-df-convert:hover {\n",
              "      background-color: #434B5C;\n",
              "      box-shadow: 0px 1px 3px 1px rgba(0, 0, 0, 0.15);\n",
              "      filter: drop-shadow(0px 1px 2px rgba(0, 0, 0, 0.3));\n",
              "      fill: #FFFFFF;\n",
              "    }\n",
              "  </style>\n",
              "\n",
              "      <script>\n",
              "        const buttonEl =\n",
              "          document.querySelector('#df-df5cf6ae-2e0f-446b-99b0-710764e14790 button.colab-df-convert');\n",
              "        buttonEl.style.display =\n",
              "          google.colab.kernel.accessAllowed ? 'block' : 'none';\n",
              "\n",
              "        async function convertToInteractive(key) {\n",
              "          const element = document.querySelector('#df-df5cf6ae-2e0f-446b-99b0-710764e14790');\n",
              "          const dataTable =\n",
              "            await google.colab.kernel.invokeFunction('convertToInteractive',\n",
              "                                                     [key], {});\n",
              "          if (!dataTable) return;\n",
              "\n",
              "          const docLinkHtml = 'Like what you see? Visit the ' +\n",
              "            '<a target=\"_blank\" href=https://colab.research.google.com/notebooks/data_table.ipynb>data table notebook</a>'\n",
              "            + ' to learn more about interactive tables.';\n",
              "          element.innerHTML = '';\n",
              "          dataTable['output_type'] = 'display_data';\n",
              "          await google.colab.output.renderOutput(dataTable, element);\n",
              "          const docLink = document.createElement('div');\n",
              "          docLink.innerHTML = docLinkHtml;\n",
              "          element.appendChild(docLink);\n",
              "        }\n",
              "      </script>\n",
              "    </div>\n",
              "  </div>\n",
              "  "
            ]
          },
          "metadata": {},
          "execution_count": 34
        }
      ]
    },
    {
      "cell_type": "markdown",
      "source": [
        "Segun la matriz de correlación de Pearson, los dos activos tienen una correlación positiva débil. Sin embargo, este método si tiene en cuenta los outliers, lo que altera el resultado."
      ],
      "metadata": {
        "id": "JN79V-7Eyzcy"
      }
    },
    {
      "cell_type": "code",
      "source": [],
      "metadata": {
        "id": "fDexD28czshC"
      },
      "execution_count": null,
      "outputs": []
    },
    {
      "cell_type": "code",
      "source": [
        "#Correlación de Kendall\n",
        "r_diario.corr(method=\"kendall\")"
      ],
      "metadata": {
        "colab": {
          "base_uri": "https://localhost:8080/",
          "height": 130
        },
        "id": "78NZvym1jyNY",
        "outputId": "69e70393-fcb4-4f6e-9aab-ab0f0bfa79aa"
      },
      "execution_count": null,
      "outputs": [
        {
          "output_type": "execute_result",
          "data": {
            "text/plain": [
              "          ABNB         V\n",
              "ABNB  1.000000  0.260475\n",
              "V     0.260475  1.000000"
            ],
            "text/html": [
              "\n",
              "  <div id=\"df-6b355f56-74f9-414c-97a1-bf9137eaadbd\">\n",
              "    <div class=\"colab-df-container\">\n",
              "      <div>\n",
              "<style scoped>\n",
              "    .dataframe tbody tr th:only-of-type {\n",
              "        vertical-align: middle;\n",
              "    }\n",
              "\n",
              "    .dataframe tbody tr th {\n",
              "        vertical-align: top;\n",
              "    }\n",
              "\n",
              "    .dataframe thead th {\n",
              "        text-align: right;\n",
              "    }\n",
              "</style>\n",
              "<table border=\"1\" class=\"dataframe\">\n",
              "  <thead>\n",
              "    <tr style=\"text-align: right;\">\n",
              "      <th></th>\n",
              "      <th>ABNB</th>\n",
              "      <th>V</th>\n",
              "    </tr>\n",
              "  </thead>\n",
              "  <tbody>\n",
              "    <tr>\n",
              "      <th>ABNB</th>\n",
              "      <td>1.000000</td>\n",
              "      <td>0.260475</td>\n",
              "    </tr>\n",
              "    <tr>\n",
              "      <th>V</th>\n",
              "      <td>0.260475</td>\n",
              "      <td>1.000000</td>\n",
              "    </tr>\n",
              "  </tbody>\n",
              "</table>\n",
              "</div>\n",
              "      <button class=\"colab-df-convert\" onclick=\"convertToInteractive('df-6b355f56-74f9-414c-97a1-bf9137eaadbd')\"\n",
              "              title=\"Convert this dataframe to an interactive table.\"\n",
              "              style=\"display:none;\">\n",
              "        \n",
              "  <svg xmlns=\"http://www.w3.org/2000/svg\" height=\"24px\"viewBox=\"0 0 24 24\"\n",
              "       width=\"24px\">\n",
              "    <path d=\"M0 0h24v24H0V0z\" fill=\"none\"/>\n",
              "    <path d=\"M18.56 5.44l.94 2.06.94-2.06 2.06-.94-2.06-.94-.94-2.06-.94 2.06-2.06.94zm-11 1L8.5 8.5l.94-2.06 2.06-.94-2.06-.94L8.5 2.5l-.94 2.06-2.06.94zm10 10l.94 2.06.94-2.06 2.06-.94-2.06-.94-.94-2.06-.94 2.06-2.06.94z\"/><path d=\"M17.41 7.96l-1.37-1.37c-.4-.4-.92-.59-1.43-.59-.52 0-1.04.2-1.43.59L10.3 9.45l-7.72 7.72c-.78.78-.78 2.05 0 2.83L4 21.41c.39.39.9.59 1.41.59.51 0 1.02-.2 1.41-.59l7.78-7.78 2.81-2.81c.8-.78.8-2.07 0-2.86zM5.41 20L4 18.59l7.72-7.72 1.47 1.35L5.41 20z\"/>\n",
              "  </svg>\n",
              "      </button>\n",
              "      \n",
              "  <style>\n",
              "    .colab-df-container {\n",
              "      display:flex;\n",
              "      flex-wrap:wrap;\n",
              "      gap: 12px;\n",
              "    }\n",
              "\n",
              "    .colab-df-convert {\n",
              "      background-color: #E8F0FE;\n",
              "      border: none;\n",
              "      border-radius: 50%;\n",
              "      cursor: pointer;\n",
              "      display: none;\n",
              "      fill: #1967D2;\n",
              "      height: 32px;\n",
              "      padding: 0 0 0 0;\n",
              "      width: 32px;\n",
              "    }\n",
              "\n",
              "    .colab-df-convert:hover {\n",
              "      background-color: #E2EBFA;\n",
              "      box-shadow: 0px 1px 2px rgba(60, 64, 67, 0.3), 0px 1px 3px 1px rgba(60, 64, 67, 0.15);\n",
              "      fill: #174EA6;\n",
              "    }\n",
              "\n",
              "    [theme=dark] .colab-df-convert {\n",
              "      background-color: #3B4455;\n",
              "      fill: #D2E3FC;\n",
              "    }\n",
              "\n",
              "    [theme=dark] .colab-df-convert:hover {\n",
              "      background-color: #434B5C;\n",
              "      box-shadow: 0px 1px 3px 1px rgba(0, 0, 0, 0.15);\n",
              "      filter: drop-shadow(0px 1px 2px rgba(0, 0, 0, 0.3));\n",
              "      fill: #FFFFFF;\n",
              "    }\n",
              "  </style>\n",
              "\n",
              "      <script>\n",
              "        const buttonEl =\n",
              "          document.querySelector('#df-6b355f56-74f9-414c-97a1-bf9137eaadbd button.colab-df-convert');\n",
              "        buttonEl.style.display =\n",
              "          google.colab.kernel.accessAllowed ? 'block' : 'none';\n",
              "\n",
              "        async function convertToInteractive(key) {\n",
              "          const element = document.querySelector('#df-6b355f56-74f9-414c-97a1-bf9137eaadbd');\n",
              "          const dataTable =\n",
              "            await google.colab.kernel.invokeFunction('convertToInteractive',\n",
              "                                                     [key], {});\n",
              "          if (!dataTable) return;\n",
              "\n",
              "          const docLinkHtml = 'Like what you see? Visit the ' +\n",
              "            '<a target=\"_blank\" href=https://colab.research.google.com/notebooks/data_table.ipynb>data table notebook</a>'\n",
              "            + ' to learn more about interactive tables.';\n",
              "          element.innerHTML = '';\n",
              "          dataTable['output_type'] = 'display_data';\n",
              "          await google.colab.output.renderOutput(dataTable, element);\n",
              "          const docLink = document.createElement('div');\n",
              "          docLink.innerHTML = docLinkHtml;\n",
              "          element.appendChild(docLink);\n",
              "        }\n",
              "      </script>\n",
              "    </div>\n",
              "  </div>\n",
              "  "
            ]
          },
          "metadata": {},
          "execution_count": 35
        }
      ]
    },
    {
      "cell_type": "markdown",
      "source": [
        "Segun la matriz de correlación de Kendall, los dos activos tienen una correlación positiva débil, frente al coeficiente anterior este es más bajo. Sin embargo, este método si tiene en cuenta los outliers, lo que altera el resultado"
      ],
      "metadata": {
        "id": "lJa5GaphzpVD"
      }
    },
    {
      "cell_type": "code",
      "source": [
        "#Correlación de Spearman\n",
        "r_diario.corr(method=\"spearman\")"
      ],
      "metadata": {
        "colab": {
          "base_uri": "https://localhost:8080/",
          "height": 130
        },
        "id": "zuTMHOuGj9nz",
        "outputId": "db92322c-bd73-4bd5-ce81-266c4a247f33"
      },
      "execution_count": null,
      "outputs": [
        {
          "output_type": "execute_result",
          "data": {
            "text/plain": [
              "          ABNB         V\n",
              "ABNB  1.000000  0.373906\n",
              "V     0.373906  1.000000"
            ],
            "text/html": [
              "\n",
              "  <div id=\"df-4e0a53e2-9854-4637-bfc8-0385c6e6a9b3\">\n",
              "    <div class=\"colab-df-container\">\n",
              "      <div>\n",
              "<style scoped>\n",
              "    .dataframe tbody tr th:only-of-type {\n",
              "        vertical-align: middle;\n",
              "    }\n",
              "\n",
              "    .dataframe tbody tr th {\n",
              "        vertical-align: top;\n",
              "    }\n",
              "\n",
              "    .dataframe thead th {\n",
              "        text-align: right;\n",
              "    }\n",
              "</style>\n",
              "<table border=\"1\" class=\"dataframe\">\n",
              "  <thead>\n",
              "    <tr style=\"text-align: right;\">\n",
              "      <th></th>\n",
              "      <th>ABNB</th>\n",
              "      <th>V</th>\n",
              "    </tr>\n",
              "  </thead>\n",
              "  <tbody>\n",
              "    <tr>\n",
              "      <th>ABNB</th>\n",
              "      <td>1.000000</td>\n",
              "      <td>0.373906</td>\n",
              "    </tr>\n",
              "    <tr>\n",
              "      <th>V</th>\n",
              "      <td>0.373906</td>\n",
              "      <td>1.000000</td>\n",
              "    </tr>\n",
              "  </tbody>\n",
              "</table>\n",
              "</div>\n",
              "      <button class=\"colab-df-convert\" onclick=\"convertToInteractive('df-4e0a53e2-9854-4637-bfc8-0385c6e6a9b3')\"\n",
              "              title=\"Convert this dataframe to an interactive table.\"\n",
              "              style=\"display:none;\">\n",
              "        \n",
              "  <svg xmlns=\"http://www.w3.org/2000/svg\" height=\"24px\"viewBox=\"0 0 24 24\"\n",
              "       width=\"24px\">\n",
              "    <path d=\"M0 0h24v24H0V0z\" fill=\"none\"/>\n",
              "    <path d=\"M18.56 5.44l.94 2.06.94-2.06 2.06-.94-2.06-.94-.94-2.06-.94 2.06-2.06.94zm-11 1L8.5 8.5l.94-2.06 2.06-.94-2.06-.94L8.5 2.5l-.94 2.06-2.06.94zm10 10l.94 2.06.94-2.06 2.06-.94-2.06-.94-.94-2.06-.94 2.06-2.06.94z\"/><path d=\"M17.41 7.96l-1.37-1.37c-.4-.4-.92-.59-1.43-.59-.52 0-1.04.2-1.43.59L10.3 9.45l-7.72 7.72c-.78.78-.78 2.05 0 2.83L4 21.41c.39.39.9.59 1.41.59.51 0 1.02-.2 1.41-.59l7.78-7.78 2.81-2.81c.8-.78.8-2.07 0-2.86zM5.41 20L4 18.59l7.72-7.72 1.47 1.35L5.41 20z\"/>\n",
              "  </svg>\n",
              "      </button>\n",
              "      \n",
              "  <style>\n",
              "    .colab-df-container {\n",
              "      display:flex;\n",
              "      flex-wrap:wrap;\n",
              "      gap: 12px;\n",
              "    }\n",
              "\n",
              "    .colab-df-convert {\n",
              "      background-color: #E8F0FE;\n",
              "      border: none;\n",
              "      border-radius: 50%;\n",
              "      cursor: pointer;\n",
              "      display: none;\n",
              "      fill: #1967D2;\n",
              "      height: 32px;\n",
              "      padding: 0 0 0 0;\n",
              "      width: 32px;\n",
              "    }\n",
              "\n",
              "    .colab-df-convert:hover {\n",
              "      background-color: #E2EBFA;\n",
              "      box-shadow: 0px 1px 2px rgba(60, 64, 67, 0.3), 0px 1px 3px 1px rgba(60, 64, 67, 0.15);\n",
              "      fill: #174EA6;\n",
              "    }\n",
              "\n",
              "    [theme=dark] .colab-df-convert {\n",
              "      background-color: #3B4455;\n",
              "      fill: #D2E3FC;\n",
              "    }\n",
              "\n",
              "    [theme=dark] .colab-df-convert:hover {\n",
              "      background-color: #434B5C;\n",
              "      box-shadow: 0px 1px 3px 1px rgba(0, 0, 0, 0.15);\n",
              "      filter: drop-shadow(0px 1px 2px rgba(0, 0, 0, 0.3));\n",
              "      fill: #FFFFFF;\n",
              "    }\n",
              "  </style>\n",
              "\n",
              "      <script>\n",
              "        const buttonEl =\n",
              "          document.querySelector('#df-4e0a53e2-9854-4637-bfc8-0385c6e6a9b3 button.colab-df-convert');\n",
              "        buttonEl.style.display =\n",
              "          google.colab.kernel.accessAllowed ? 'block' : 'none';\n",
              "\n",
              "        async function convertToInteractive(key) {\n",
              "          const element = document.querySelector('#df-4e0a53e2-9854-4637-bfc8-0385c6e6a9b3');\n",
              "          const dataTable =\n",
              "            await google.colab.kernel.invokeFunction('convertToInteractive',\n",
              "                                                     [key], {});\n",
              "          if (!dataTable) return;\n",
              "\n",
              "          const docLinkHtml = 'Like what you see? Visit the ' +\n",
              "            '<a target=\"_blank\" href=https://colab.research.google.com/notebooks/data_table.ipynb>data table notebook</a>'\n",
              "            + ' to learn more about interactive tables.';\n",
              "          element.innerHTML = '';\n",
              "          dataTable['output_type'] = 'display_data';\n",
              "          await google.colab.output.renderOutput(dataTable, element);\n",
              "          const docLink = document.createElement('div');\n",
              "          docLink.innerHTML = docLinkHtml;\n",
              "          element.appendChild(docLink);\n",
              "        }\n",
              "      </script>\n",
              "    </div>\n",
              "  </div>\n",
              "  "
            ]
          },
          "metadata": {},
          "execution_count": 15
        }
      ]
    },
    {
      "cell_type": "markdown",
      "source": [
        "Segun la matriz de correlación de Spearman, los dos activos tienen una correlación positiva débil, frente al coeficiente anterior este es más alto. Este método no tiene en cuenta los outliers y se asume como el mejor método de correlación no lineal cuando no hay normalidad."
      ],
      "metadata": {
        "id": "3Xy2y9mb0PyU"
      }
    },
    {
      "cell_type": "markdown",
      "source": [
        "## Punto 2.\n",
        "Escoja 10 acciones de su preferencia en el mercado estadounidense. Para estas\n",
        "acciones descargue las series de precios mensuales para el periodo Dic-17 a Dic-2022. Con esta información:\n",
        "\n",
        "\n",
        "> **a**. Calcule los retornos y volatilidades anualizadas.\n",
        "\n",
        "\n",
        "\n",
        "> **b**. Construya una tabla en la que se muestre un ranqueo de los activos de acuerdo con su\n",
        "retorno esperado.\n",
        "\n"
      ],
      "metadata": {
        "id": "PA1S6RhS7KeN"
      }
    },
    {
      "cell_type": "code",
      "source": [
        "assets = ['PH','PEP','PG','ROL','RE','WM','WELL','XOM','CAT','CBOE']\n",
        "start = '2017-12-01'\n",
        "end = '2022-12-31'\n",
        "yf.pdr_override()\n",
        "precios2=web.DataReader(assets,start,end,interval=\"1Mo\")['Adj Close']\n"
      ],
      "metadata": {
        "colab": {
          "base_uri": "https://localhost:8080/"
        },
        "id": "G2QJdjYc7zAh",
        "outputId": "7062b66c-fe9a-4335-852d-83249162a8f6"
      },
      "execution_count": null,
      "outputs": [
        {
          "output_type": "stream",
          "name": "stdout",
          "text": [
            "[*********************100%***********************]  10 of 10 completed\n"
          ]
        }
      ]
    },
    {
      "cell_type": "code",
      "source": [
        "#Calcule los retornos y volatilidades anualizadas.\n",
        "r_10 = np.log(precios2/precios2.shift(1)).dropna()\n",
        "mu =(r_10.mean()*12)\n",
        "sigma = r_10.std()*np.sqrt(12)\n",
        "print(\"Retornos esperado\", mu)\n",
        "print(\"Volatilidades\", sigma) \n",
        "tabla3 = pd.DataFrame([mu.sort_values(ascending=False),sigma.sort_values(ascending=False)],index={'Retorno','Volatilidad Anualizada'}) \n",
        "tabla3"
      ],
      "metadata": {
        "colab": {
          "base_uri": "https://localhost:8080/",
          "height": 553
        },
        "id": "L1hDDVWnlhlm",
        "outputId": "a8fe78ce-aaa3-458c-97b0-9ba13438a6bb"
      },
      "execution_count": null,
      "outputs": [
        {
          "output_type": "stream",
          "name": "stdout",
          "text": [
            "Retornos esperado CAT     0.108506\n",
            "CBOE    0.003637\n",
            "PEP     0.109881\n",
            "PG      0.127327\n",
            "PH      0.092483\n",
            "RE      0.102560\n",
            "ROL     0.125339\n",
            "WELL    0.047577\n",
            "WM      0.136882\n",
            "XOM     0.107897\n",
            "dtype: float64\n",
            "Volatilidades CAT     0.312415\n",
            "CBOE    0.249442\n",
            "PEP     0.175520\n",
            "PG      0.173940\n",
            "PH      0.342545\n",
            "RE      0.255394\n",
            "ROL     0.259537\n",
            "WELL    0.333125\n",
            "WM      0.195142\n",
            "XOM     0.344318\n",
            "dtype: float64\n"
          ]
        },
        {
          "output_type": "execute_result",
          "data": {
            "text/plain": [
              "                              WM        PG       ROL       PEP       CAT  \\\n",
              "Retorno                 0.136882  0.127327  0.125339  0.109881  0.108506   \n",
              "Volatilidad Anualizada  0.195142  0.173940  0.259537  0.175520  0.312415   \n",
              "\n",
              "                             XOM        RE        PH      WELL      CBOE  \n",
              "Retorno                 0.107897  0.102560  0.092483  0.047577  0.003637  \n",
              "Volatilidad Anualizada  0.344318  0.255394  0.342545  0.333125  0.249442  "
            ],
            "text/html": [
              "\n",
              "  <div id=\"df-669986c9-193a-4517-bb51-b23408091f67\">\n",
              "    <div class=\"colab-df-container\">\n",
              "      <div>\n",
              "<style scoped>\n",
              "    .dataframe tbody tr th:only-of-type {\n",
              "        vertical-align: middle;\n",
              "    }\n",
              "\n",
              "    .dataframe tbody tr th {\n",
              "        vertical-align: top;\n",
              "    }\n",
              "\n",
              "    .dataframe thead th {\n",
              "        text-align: right;\n",
              "    }\n",
              "</style>\n",
              "<table border=\"1\" class=\"dataframe\">\n",
              "  <thead>\n",
              "    <tr style=\"text-align: right;\">\n",
              "      <th></th>\n",
              "      <th>WM</th>\n",
              "      <th>PG</th>\n",
              "      <th>ROL</th>\n",
              "      <th>PEP</th>\n",
              "      <th>CAT</th>\n",
              "      <th>XOM</th>\n",
              "      <th>RE</th>\n",
              "      <th>PH</th>\n",
              "      <th>WELL</th>\n",
              "      <th>CBOE</th>\n",
              "    </tr>\n",
              "  </thead>\n",
              "  <tbody>\n",
              "    <tr>\n",
              "      <th>Retorno</th>\n",
              "      <td>0.136882</td>\n",
              "      <td>0.127327</td>\n",
              "      <td>0.125339</td>\n",
              "      <td>0.109881</td>\n",
              "      <td>0.108506</td>\n",
              "      <td>0.107897</td>\n",
              "      <td>0.102560</td>\n",
              "      <td>0.092483</td>\n",
              "      <td>0.047577</td>\n",
              "      <td>0.003637</td>\n",
              "    </tr>\n",
              "    <tr>\n",
              "      <th>Volatilidad Anualizada</th>\n",
              "      <td>0.195142</td>\n",
              "      <td>0.173940</td>\n",
              "      <td>0.259537</td>\n",
              "      <td>0.175520</td>\n",
              "      <td>0.312415</td>\n",
              "      <td>0.344318</td>\n",
              "      <td>0.255394</td>\n",
              "      <td>0.342545</td>\n",
              "      <td>0.333125</td>\n",
              "      <td>0.249442</td>\n",
              "    </tr>\n",
              "  </tbody>\n",
              "</table>\n",
              "</div>\n",
              "      <button class=\"colab-df-convert\" onclick=\"convertToInteractive('df-669986c9-193a-4517-bb51-b23408091f67')\"\n",
              "              title=\"Convert this dataframe to an interactive table.\"\n",
              "              style=\"display:none;\">\n",
              "        \n",
              "  <svg xmlns=\"http://www.w3.org/2000/svg\" height=\"24px\"viewBox=\"0 0 24 24\"\n",
              "       width=\"24px\">\n",
              "    <path d=\"M0 0h24v24H0V0z\" fill=\"none\"/>\n",
              "    <path d=\"M18.56 5.44l.94 2.06.94-2.06 2.06-.94-2.06-.94-.94-2.06-.94 2.06-2.06.94zm-11 1L8.5 8.5l.94-2.06 2.06-.94-2.06-.94L8.5 2.5l-.94 2.06-2.06.94zm10 10l.94 2.06.94-2.06 2.06-.94-2.06-.94-.94-2.06-.94 2.06-2.06.94z\"/><path d=\"M17.41 7.96l-1.37-1.37c-.4-.4-.92-.59-1.43-.59-.52 0-1.04.2-1.43.59L10.3 9.45l-7.72 7.72c-.78.78-.78 2.05 0 2.83L4 21.41c.39.39.9.59 1.41.59.51 0 1.02-.2 1.41-.59l7.78-7.78 2.81-2.81c.8-.78.8-2.07 0-2.86zM5.41 20L4 18.59l7.72-7.72 1.47 1.35L5.41 20z\"/>\n",
              "  </svg>\n",
              "      </button>\n",
              "      \n",
              "  <style>\n",
              "    .colab-df-container {\n",
              "      display:flex;\n",
              "      flex-wrap:wrap;\n",
              "      gap: 12px;\n",
              "    }\n",
              "\n",
              "    .colab-df-convert {\n",
              "      background-color: #E8F0FE;\n",
              "      border: none;\n",
              "      border-radius: 50%;\n",
              "      cursor: pointer;\n",
              "      display: none;\n",
              "      fill: #1967D2;\n",
              "      height: 32px;\n",
              "      padding: 0 0 0 0;\n",
              "      width: 32px;\n",
              "    }\n",
              "\n",
              "    .colab-df-convert:hover {\n",
              "      background-color: #E2EBFA;\n",
              "      box-shadow: 0px 1px 2px rgba(60, 64, 67, 0.3), 0px 1px 3px 1px rgba(60, 64, 67, 0.15);\n",
              "      fill: #174EA6;\n",
              "    }\n",
              "\n",
              "    [theme=dark] .colab-df-convert {\n",
              "      background-color: #3B4455;\n",
              "      fill: #D2E3FC;\n",
              "    }\n",
              "\n",
              "    [theme=dark] .colab-df-convert:hover {\n",
              "      background-color: #434B5C;\n",
              "      box-shadow: 0px 1px 3px 1px rgba(0, 0, 0, 0.15);\n",
              "      filter: drop-shadow(0px 1px 2px rgba(0, 0, 0, 0.3));\n",
              "      fill: #FFFFFF;\n",
              "    }\n",
              "  </style>\n",
              "\n",
              "      <script>\n",
              "        const buttonEl =\n",
              "          document.querySelector('#df-669986c9-193a-4517-bb51-b23408091f67 button.colab-df-convert');\n",
              "        buttonEl.style.display =\n",
              "          google.colab.kernel.accessAllowed ? 'block' : 'none';\n",
              "\n",
              "        async function convertToInteractive(key) {\n",
              "          const element = document.querySelector('#df-669986c9-193a-4517-bb51-b23408091f67');\n",
              "          const dataTable =\n",
              "            await google.colab.kernel.invokeFunction('convertToInteractive',\n",
              "                                                     [key], {});\n",
              "          if (!dataTable) return;\n",
              "\n",
              "          const docLinkHtml = 'Like what you see? Visit the ' +\n",
              "            '<a target=\"_blank\" href=https://colab.research.google.com/notebooks/data_table.ipynb>data table notebook</a>'\n",
              "            + ' to learn more about interactive tables.';\n",
              "          element.innerHTML = '';\n",
              "          dataTable['output_type'] = 'display_data';\n",
              "          await google.colab.output.renderOutput(dataTable, element);\n",
              "          const docLink = document.createElement('div');\n",
              "          docLink.innerHTML = docLinkHtml;\n",
              "          element.appendChild(docLink);\n",
              "        }\n",
              "      </script>\n",
              "    </div>\n",
              "  </div>\n",
              "  "
            ]
          },
          "metadata": {},
          "execution_count": 27
        }
      ]
    },
    {
      "cell_type": "markdown",
      "source": [
        "Se puede observar que entre los retornos esperados de las 10 acciones seleccionadas, el mayor es el de Waste Management Inc (WM) y el menor es el de Cboe Global Markets Inc (CBOE)"
      ],
      "metadata": {
        "id": "XdVfIgPq09XA"
      }
    },
    {
      "cell_type": "markdown",
      "source": [
        "##Punto 3. \n",
        "Descargue la serie mensual de precios del índice estadounidense Rusell para el periodo\n",
        "Dic-11 a Dic-2022. Con esta información calcule la volatilidad mensual y anualizada usando\n",
        "las siguientes medidas:\n",
        "\n",
        "> **a.** Desviación estándar\n",
        "\n",
        "> **b.** Parkinson\n",
        "\n",
        "> **c.** Garman-Klass\n",
        "\n",
        "> **d.** Volatilidad ponderada exponencial (EWMA) con una lambda de 0.94.\n"
      ],
      "metadata": {
        "id": "biMjL2ybAXY9"
      }
    },
    {
      "cell_type": "code",
      "source": [
        "start = '2011-12-01'\n",
        "end = '2022-12-31'\n",
        "yf.pdr_override()\n",
        "precios3=web.DataReader(\"^RUT\",start,end,interval=\"1Mo\")\n",
        "retornos3=np.log(precios3['Adj Close']/precios3['Adj Close'].shift(1)).dropna()"
      ],
      "metadata": {
        "colab": {
          "base_uri": "https://localhost:8080/"
        },
        "id": "503Nq6Y5BMa8",
        "outputId": "05032e75-888c-452b-a0b6-002a283835c1"
      },
      "execution_count": null,
      "outputs": [
        {
          "output_type": "stream",
          "name": "stdout",
          "text": [
            "\r[*********************100%***********************]  1 of 1 completed\n"
          ]
        }
      ]
    },
    {
      "cell_type": "code",
      "source": [
        "#Desviación estándar\n",
        "sigma1 = retornos3.std()\n",
        "sigmaanual=sigma1*np.sqrt(12)"
      ],
      "metadata": {
        "id": "CU8gNJjUA3Mq"
      },
      "execution_count": null,
      "outputs": []
    },
    {
      "cell_type": "markdown",
      "source": [
        "La volatilidad media mensual es de 0.0547 mientras que, la volatilidad anualizada es de 0.1896"
      ],
      "metadata": {
        "id": "_1JX6C4x10nj"
      }
    },
    {
      "cell_type": "code",
      "source": [
        "#Parkinson\n",
        "lnHL = np.log(precios3[\"High\"]/precios3[\"Low\"]).dropna()\n",
        "sigmaPark_d = ((1/(4*np.log(2)))*lnHL**2)**0.5\n",
        "\n",
        "(sigmaPark_d.mean())*np.sqrt(12)\n",
        "sigmaPark_d.mean()\n"
      ],
      "metadata": {
        "colab": {
          "base_uri": "https://localhost:8080/"
        },
        "id": "KYj4M5K7BCGu",
        "outputId": "77589bee-2409-4240-b388-8efdfd085bc3"
      },
      "execution_count": null,
      "outputs": [
        {
          "output_type": "execute_result",
          "data": {
            "text/plain": [
              "0.1767113126308943"
            ]
          },
          "metadata": {},
          "execution_count": 12
        }
      ]
    },
    {
      "cell_type": "markdown",
      "source": [
        "La volatilidad de Parkinson mensual es de 0.0510 mientras que, la volatilidad anualizada es de 0.1767\n"
      ],
      "metadata": {
        "id": "7ENsIsjq3eSr"
      }
    },
    {
      "cell_type": "code",
      "source": [
        "#Garman-Klass\n",
        "lnHL = np.log(precios3[\"High\"]/precios3[\"Low\"]).dropna()\n",
        "lnCO = np.log(precios3[\"Close\"]/precios3[\"Open\"]).dropna()\n",
        "sigmaGK_d = (0.5*lnHL**2-(2*np.log(2)-1)*lnCO**2)**0.5\n",
        "(sigmaGK_d.mean())*np.sqrt(12)\n",
        "(sigmaGK_d.mean())"
      ],
      "metadata": {
        "colab": {
          "base_uri": "https://localhost:8080/"
        },
        "id": "B84yLbbeBEuP",
        "outputId": "8309af0f-60e7-43d7-b4e0-fd48a76457f1"
      },
      "execution_count": null,
      "outputs": [
        {
          "output_type": "execute_result",
          "data": {
            "text/plain": [
              "0.05239855062447297"
            ]
          },
          "metadata": {},
          "execution_count": 14
        }
      ]
    },
    {
      "cell_type": "markdown",
      "source": [
        "La volatilidad de Garman-Klass mensual es de 0.0524 mientras que, la volatilidad anualizada es de 0.1815. Cabe mencionar que, este método incorpora los precios 'Open' y 'Close' para mejorar la estimación de la volatilidad, por ende se recomienda utilizar."
      ],
      "metadata": {
        "id": "DgM-3nLR3u8q"
      }
    },
    {
      "cell_type": "code",
      "source": [
        "#Volatilidad ponderada exponencial (EWMA) con una lambda de 0.94.\n",
        "retornos=np.log(precios3['Adj Close']/precios3['Adj Close'].shift(1)).dropna()\n",
        "ewma_pd= retornos.ewm(alpha=0.94).std()\n",
        "\n",
        "(ewma_pd.mean())*np.sqrt(12)\n",
        "ewma_pd.mean()\n"
      ],
      "metadata": {
        "colab": {
          "base_uri": "https://localhost:8080/"
        },
        "id": "vEXF7ARpBHwG",
        "outputId": "cff1a05d-aae8-4fc9-b9a3-98dbe2277368"
      },
      "execution_count": null,
      "outputs": [
        {
          "output_type": "execute_result",
          "data": {
            "text/plain": [
              "0.15629834639832033"
            ]
          },
          "metadata": {},
          "execution_count": 15
        }
      ]
    },
    {
      "cell_type": "markdown",
      "source": [
        "La volatilidad de EWMA mensual es de 0.04512 mientras que, la volatilidad anualizada es de 0.1562. "
      ],
      "metadata": {
        "id": "yn0VTDb34F47"
      }
    }
  ]
}